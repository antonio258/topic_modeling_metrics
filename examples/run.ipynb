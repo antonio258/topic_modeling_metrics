{
 "cells": [
  {
   "cell_type": "code",
   "source": [
    "import numpy as np\n",
    "import yaml\n",
    "import pandas as pd\n",
    "from glob import glob\n",
    "from pathlib import Path\n",
    "from topic_modeling_metrics.maut import Maut\n",
    "from sklearn.feature_extraction.text import CountVectorizer"
   ],
   "metadata": {
    "collapsed": false,
    "ExecuteTime": {
     "end_time": "2024-06-11T18:15:01.340213Z",
     "start_time": "2024-06-11T18:14:55.556428Z"
    }
   },
   "id": "1922b6e1aa0ce6ff",
   "outputs": [],
   "execution_count": 1
  },
  {
   "metadata": {
    "ExecuteTime": {
     "end_time": "2024-06-11T18:15:01.343948Z",
     "start_time": "2024-06-11T18:15:01.341353Z"
    }
   },
   "cell_type": "code",
   "source": "method_topics = \"tm\"",
   "id": "39b99727118bef3e",
   "outputs": [],
   "execution_count": 2
  },
  {
   "metadata": {
    "ExecuteTime": {
     "end_time": "2024-06-11T18:15:01.348555Z",
     "start_time": "2024-06-11T18:15:01.345266Z"
    }
   },
   "cell_type": "code",
   "source": [
    "with open(f\"config_{method_topics}.yml\", \"r\") as f:\n",
    "    config = yaml.load(f, Loader=yaml.FullLoader)"
   ],
   "id": "f719650d51134e9b",
   "outputs": [],
   "execution_count": 3
  },
  {
   "cell_type": "code",
   "source": [
    "methods = config[\"methods\"]\n",
    "dataset = config[\"dataset\"]\n",
    "datapath = config[\"datapath\"]\n",
    "topics_documents_path = config[\"topics_documents_path\"]\n",
    "topic_words_path = config[\"topic_words_path\"]\n",
    "embedding_word_path = config[\"embedding_word_path\"]\n",
    "embedding_doc_name_path = config[\"embedding_doc_name_path\"]\n",
    "n_words = config[\"n_words\"]\n",
    "save_path = config[\"save_path\"]"
   ],
   "metadata": {
    "collapsed": false,
    "ExecuteTime": {
     "end_time": "2024-06-11T18:15:01.352672Z",
     "start_time": "2024-06-11T18:15:01.349992Z"
    }
   },
   "id": "9fb03f41bb5cc6be",
   "outputs": [],
   "execution_count": 4
  },
  {
   "cell_type": "code",
   "source": [
    "df = pd.read_csv(f\"{datapath}/{dataset}.csv\")\n",
    "df[\"id\"] = df[\"id\"].astype(int)\n",
    "topic_words = {}\n",
    "topic_labels = {}\n",
    "for method in methods:\n",
    "    topic_labels[method] = pd.read_csv(f\"{topics_documents_path}/{dataset}/{method}/Topicos_Dominantes.csv\", sep=\"|\", dtype={\"id\": int})\\\n",
    "    .merge(df, on=\"id\")[\"dominant_topic\"].values"
   ],
   "metadata": {
    "collapsed": false,
    "ExecuteTime": {
     "end_time": "2024-06-11T18:15:02.226357Z",
     "start_time": "2024-06-11T18:15:01.353511Z"
    }
   },
   "id": "826e739bbb32c043",
   "outputs": [],
   "execution_count": 5
  },
  {
   "cell_type": "code",
   "source": [
    "{method: topic_labels[method].shape for method in methods}"
   ],
   "metadata": {
    "collapsed": false,
    "ExecuteTime": {
     "end_time": "2024-06-11T18:15:02.239435Z",
     "start_time": "2024-06-11T18:15:02.236588Z"
    }
   },
   "id": "1dc60051ccfb3061",
   "outputs": [
    {
     "data": {
      "text/plain": [
       "{'gpt': (11967,),\n",
       " 'llama': (11967,),\n",
       " 'cluwords': (11967,),\n",
       " 'berttopic': (11967,),\n",
       " 'nmf': (11967,),\n",
       " 'lda': (11967,),\n",
       " 'class': (11967,)}"
      ]
     },
     "execution_count": 8,
     "metadata": {},
     "output_type": "execute_result"
    }
   ],
   "execution_count": 8
  },
  {
   "metadata": {
    "ExecuteTime": {
     "end_time": "2024-06-11T18:15:02.645585Z",
     "start_time": "2024-06-11T18:15:02.240169Z"
    }
   },
   "cell_type": "code",
   "source": [
    "# Necessário apenas para llms, onde os tópicos podem conter palavras fora do vocabulário\n",
    "vec = CountVectorizer(tokenizer=lambda x: x.split())\n",
    "vec.fit(df[\"pp\"].values.tolist())\n",
    "vocab = vec.get_feature_names_out()"
   ],
   "id": "55c79ba54d70a29c",
   "outputs": [
    {
     "name": "stderr",
     "output_type": "stream",
     "text": [
      "/home/antonio/miniconda3/envs/llm/lib/python3.10/site-packages/sklearn/feature_extraction/text.py:525: UserWarning: The parameter 'token_pattern' will not be used since 'tokenizer' is not None'\n",
      "  warnings.warn(\n"
     ]
    }
   ],
   "execution_count": 9
  },
  {
   "cell_type": "code",
   "source": [
    "min_lentgh = {}\n",
    "for method in methods:\n",
    "    df_words = pd.read_csv(f\"{topic_words_path}/{dataset}/{method}/tfidf/words.csv\")\n",
    "    topics = df_words.to_dict(orient=\"index\")\n",
    "    topics = {id: list(topics[id].values()) for id in topics}\n",
    "    topics = {id: [value for value in topics[id] if value in vocab] for id in topics}\n",
    "    min_lentgh[method] = np.min([len(topics[id]) for id in topics])\n",
    "    # topics = {id: words.split() for id, words in [topic.split(\" - \") for topic in topics]}\n",
    "    topic_words[method] = topics"
   ],
   "metadata": {
    "collapsed": false,
    "ExecuteTime": {
     "end_time": "2024-06-11T18:15:03.565013Z",
     "start_time": "2024-06-11T18:15:02.647038Z"
    }
   },
   "id": "8f7be8a6d5ec51db",
   "outputs": [],
   "execution_count": 10
  },
  {
   "metadata": {
    "ExecuteTime": {
     "end_time": "2024-06-11T18:15:03.573841Z",
     "start_time": "2024-06-11T18:15:03.571401Z"
    }
   },
   "cell_type": "code",
   "source": "min_lentgh",
   "id": "315621bba27aa6e",
   "outputs": [
    {
     "data": {
      "text/plain": [
       "{'gpt': 10,\n",
       " 'llama': 10,\n",
       " 'cluwords': 10,\n",
       " 'berttopic': 10,\n",
       " 'nmf': 10,\n",
       " 'lda': 10,\n",
       " 'class': 10}"
      ]
     },
     "execution_count": 12,
     "metadata": {},
     "output_type": "execute_result"
    }
   ],
   "execution_count": 12
  },
  {
   "cell_type": "code",
   "source": [
    "maut = Maut(\n",
    "    docs=df[\"pp\"].values.tolist(),\n",
    "    topic_words=topic_words,\n",
    "    topic_labels=topic_labels,\n",
    "    embedding_word_path=embedding_word_path,\n",
    "    embedding_doc_name_path=embedding_doc_name_path,\n",
    "    n_words=n_words)"
   ],
   "metadata": {
    "collapsed": false,
    "ExecuteTime": {
     "end_time": "2024-06-11T18:15:03.577289Z",
     "start_time": "2024-06-11T18:15:03.574509Z"
    }
   },
   "id": "5e36ca612b777810",
   "outputs": [],
   "execution_count": 13
  },
  {
   "metadata": {
    "ExecuteTime": {
     "end_time": "2024-06-11T18:36:10.148461Z",
     "start_time": "2024-06-11T18:15:03.577956Z"
    }
   },
   "cell_type": "code",
   "source": "maut.get_tradicional_metrics()",
   "id": "7ac343eaa9a19346",
   "outputs": [
    {
     "name": "stderr",
     "output_type": "stream",
     "text": [
      "2024-06-11 15:18:02,030 - traditional_metrics - INFO - 1.0 de palavras em tópicos mapeadas...\n",
      "2024-06-11 15:18:02,050 - maut - INFO - Traditional metrics for gpt calculated.\n",
      "2024-06-11 15:21:03,216 - traditional_metrics - INFO - 1.0 de palavras em tópicos mapeadas...\n",
      "2024-06-11 15:21:03,216 - traditional_metrics - INFO - 1.0 de palavras em tópicos mapeadas...\n",
      "2024-06-11 15:21:03,239 - maut - INFO - Traditional metrics for llama calculated.\n",
      "2024-06-11 15:24:07,456 - traditional_metrics - INFO - 0.996969696969697 de palavras em tópicos mapeadas...\n",
      "2024-06-11 15:24:07,456 - traditional_metrics - INFO - 0.996969696969697 de palavras em tópicos mapeadas...\n",
      "2024-06-11 15:24:07,456 - traditional_metrics - INFO - 0.996969696969697 de palavras em tópicos mapeadas...\n",
      "2024-06-11 15:24:07,479 - maut - INFO - Traditional metrics for cluwords calculated.\n",
      "2024-06-11 15:27:07,215 - traditional_metrics - INFO - 0.9787878787878788 de palavras em tópicos mapeadas...\n",
      "2024-06-11 15:27:07,215 - traditional_metrics - INFO - 0.9787878787878788 de palavras em tópicos mapeadas...\n",
      "2024-06-11 15:27:07,215 - traditional_metrics - INFO - 0.9787878787878788 de palavras em tópicos mapeadas...\n",
      "2024-06-11 15:27:07,215 - traditional_metrics - INFO - 0.9787878787878788 de palavras em tópicos mapeadas...\n",
      "2024-06-11 15:27:07,237 - maut - INFO - Traditional metrics for berttopic calculated.\n",
      "2024-06-11 15:30:08,231 - traditional_metrics - INFO - 0.9939393939393939 de palavras em tópicos mapeadas...\n",
      "2024-06-11 15:30:08,231 - traditional_metrics - INFO - 0.9939393939393939 de palavras em tópicos mapeadas...\n",
      "2024-06-11 15:30:08,231 - traditional_metrics - INFO - 0.9939393939393939 de palavras em tópicos mapeadas...\n",
      "2024-06-11 15:30:08,231 - traditional_metrics - INFO - 0.9939393939393939 de palavras em tópicos mapeadas...\n",
      "2024-06-11 15:30:08,231 - traditional_metrics - INFO - 0.9939393939393939 de palavras em tópicos mapeadas...\n",
      "2024-06-11 15:30:08,263 - maut - INFO - Traditional metrics for nmf calculated.\n",
      "2024-06-11 15:33:09,127 - traditional_metrics - INFO - 0.9818181818181818 de palavras em tópicos mapeadas...\n",
      "2024-06-11 15:33:09,127 - traditional_metrics - INFO - 0.9818181818181818 de palavras em tópicos mapeadas...\n",
      "2024-06-11 15:33:09,127 - traditional_metrics - INFO - 0.9818181818181818 de palavras em tópicos mapeadas...\n",
      "2024-06-11 15:33:09,127 - traditional_metrics - INFO - 0.9818181818181818 de palavras em tópicos mapeadas...\n",
      "2024-06-11 15:33:09,127 - traditional_metrics - INFO - 0.9818181818181818 de palavras em tópicos mapeadas...\n",
      "2024-06-11 15:33:09,127 - traditional_metrics - INFO - 0.9818181818181818 de palavras em tópicos mapeadas...\n",
      "2024-06-11 15:33:09,149 - maut - INFO - Traditional metrics for lda calculated.\n",
      "2024-06-11 15:36:09,985 - traditional_metrics - INFO - 0.996969696969697 de palavras em tópicos mapeadas...\n",
      "2024-06-11 15:36:09,985 - traditional_metrics - INFO - 0.996969696969697 de palavras em tópicos mapeadas...\n",
      "2024-06-11 15:36:09,985 - traditional_metrics - INFO - 0.996969696969697 de palavras em tópicos mapeadas...\n",
      "2024-06-11 15:36:09,985 - traditional_metrics - INFO - 0.996969696969697 de palavras em tópicos mapeadas...\n",
      "2024-06-11 15:36:09,985 - traditional_metrics - INFO - 0.996969696969697 de palavras em tópicos mapeadas...\n",
      "2024-06-11 15:36:09,985 - traditional_metrics - INFO - 0.996969696969697 de palavras em tópicos mapeadas...\n",
      "2024-06-11 15:36:09,985 - traditional_metrics - INFO - 0.996969696969697 de palavras em tópicos mapeadas...\n",
      "2024-06-11 15:36:10,008 - maut - INFO - Traditional metrics for class calculated.\n"
     ]
    }
   ],
   "execution_count": 14
  },
  {
   "metadata": {
    "ExecuteTime": {
     "end_time": "2024-06-11T18:36:10.163170Z",
     "start_time": "2024-06-11T18:36:10.155961Z"
    }
   },
   "cell_type": "code",
   "source": "topic_result_path = Path(f\"{save_path}/{method_topics}/{dataset}\")",
   "id": "9a82d1919b21b691",
   "outputs": [],
   "execution_count": 16
  },
  {
   "metadata": {
    "ExecuteTime": {
     "end_time": "2024-06-11T18:36:10.165570Z",
     "start_time": "2024-06-11T18:36:10.163998Z"
    }
   },
   "cell_type": "code",
   "source": "df_result = maut.get_maut()",
   "id": "1da91f387d6030ed",
   "outputs": [],
   "execution_count": 17
  },
  {
   "metadata": {
    "ExecuteTime": {
     "end_time": "2024-06-11T18:36:10.170666Z",
     "start_time": "2024-06-11T18:36:10.168313Z"
    }
   },
   "cell_type": "code",
   "source": "topic_result_path.mkdir(parents=True, exist_ok=True)",
   "id": "32017ee5a715f365",
   "outputs": [],
   "execution_count": 19
  },
  {
   "metadata": {
    "ExecuteTime": {
     "end_time": "2024-06-11T18:36:10.173664Z",
     "start_time": "2024-06-11T18:36:10.171456Z"
    }
   },
   "cell_type": "code",
   "source": [
    "df_result.to_csv(f\"{topic_result_path}/maut.csv\", index=False)\n",
    "maut.metrics_dataframe.reset_index().to_csv(f\"{topic_result_path}/maut_metrics.csv\", index=False)"
   ],
   "id": "c7157ed3b03faf43",
   "outputs": [],
   "execution_count": 20
  },
  {
   "metadata": {
    "ExecuteTime": {
     "end_time": "2024-06-11T18:36:10.200071Z",
     "start_time": "2024-06-11T18:36:10.174825Z"
    }
   },
   "cell_type": "code",
   "source": [
    "algorithms = maut.metrics_by_topic.keys()\n",
    "dfs = []\n",
    "for algorithm in algorithms:\n",
    "    df = pd.DataFrame(maut.metrics_by_topic[algorithm])\n",
    "    df[\"algorithm\"] = algorithm\n",
    "    dfs.append(df)\n",
    "pd.concat(dfs).to_csv(f\"{topic_result_path}/result_by_topic.csv\", index=False)"
   ],
   "id": "d3023afd56e12974",
   "outputs": [],
   "execution_count": 21
  }
 ],
 "metadata": {
  "kernelspec": {
   "display_name": "Python 3",
   "language": "python",
   "name": "python3"
  },
  "language_info": {
   "codemirror_mode": {
    "name": "ipython",
    "version": 2
   },
   "file_extension": ".py",
   "mimetype": "text/x-python",
   "name": "python",
   "nbconvert_exporter": "python",
   "pygments_lexer": "ipython2",
   "version": "2.7.6"
  }
 },
 "nbformat": 4,
 "nbformat_minor": 5
}
